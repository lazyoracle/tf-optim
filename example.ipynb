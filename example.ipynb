{
 "cells": [
  {
   "source": [
    "## Imports"
   ],
   "cell_type": "markdown",
   "metadata": {}
  },
  {
   "cell_type": "code",
   "execution_count": 1,
   "metadata": {},
   "outputs": [],
   "source": [
    "import tensorflow as tf"
   ]
  },
  {
   "cell_type": "code",
   "execution_count": 2,
   "metadata": {},
   "outputs": [],
   "source": [
    "import numpy as np"
   ]
  },
  {
   "source": [
    "## Note on Function Definition for using tf.optimizer"
   ],
   "cell_type": "markdown",
   "metadata": {}
  },
  {
   "source": [
    "The function that is to be optimized using `tf.optimizer` must not take any arguments and should only use global variables. It is possible to wrap a function that takes arguments with a non-parameterised one to use a global variable. The underlying function being wrapped must still be using tensorflow datatypes (specifically `tf.Variable`) and have tensorflow operations performed on them. A TensorFlow `Variable` is the recommended way to represent shared, persistent state your program manipulates. A `tf.Variable` represents a tensor whose value can be changed by running ops on it. Thus functions defined using, e.g, `numpy` datatypes `ndarray` or `float64` and operations on them won't work."
   ],
   "cell_type": "markdown",
   "metadata": {}
  },
  {
   "source": [
    "## numpy Function Definition"
   ],
   "cell_type": "markdown",
   "metadata": {}
  },
  {
   "cell_type": "code",
   "execution_count": 3,
   "metadata": {},
   "outputs": [],
   "source": [
    "# Sphere function, the basic test\n",
    "def sphere(x) -> float:\n",
    "    return float(np.sum(x**2))"
   ]
  },
  {
   "source": [
    "## tensorflow Function Definition"
   ],
   "cell_type": "markdown",
   "metadata": {}
  },
  {
   "cell_type": "code",
   "execution_count": 4,
   "metadata": {},
   "outputs": [],
   "source": [
    "def tf_sphere(x: tf.Variable) -> tf.Variable:\n",
    "    return tf.math.reduce_sum(x**2)"
   ]
  },
  {
   "source": [
    "## tensorflow Function Wrapper"
   ],
   "cell_type": "markdown",
   "metadata": {}
  },
  {
   "cell_type": "code",
   "execution_count": 5,
   "metadata": {},
   "outputs": [],
   "source": [
    "def wrap_tf_sphere() -> tf.Variable:\n",
    "    return tf_sphere(var)"
   ]
  },
  {
   "source": [
    "## Global Variable Declaration"
   ],
   "cell_type": "markdown",
   "metadata": {}
  },
  {
   "cell_type": "code",
   "execution_count": 6,
   "metadata": {},
   "outputs": [],
   "source": [
    "x = [float(i) for i in range(2000)]"
   ]
  },
  {
   "source": [
    "### tensorflow Variable"
   ],
   "cell_type": "markdown",
   "metadata": {}
  },
  {
   "cell_type": "code",
   "execution_count": 7,
   "metadata": {},
   "outputs": [
    {
     "output_type": "execute_result",
     "data": {
      "text/plain": [
       "array([0.000e+00, 1.000e+00, 2.000e+00, ..., 1.997e+03, 1.998e+03,\n",
       "       1.999e+03], dtype=float32)"
      ]
     },
     "metadata": {},
     "execution_count": 7
    }
   ],
   "source": [
    "var = tf.Variable(x)\n",
    "var.numpy()"
   ]
  },
  {
   "source": [
    "## Global Variable Function Definition"
   ],
   "cell_type": "markdown",
   "metadata": {}
  },
  {
   "cell_type": "code",
   "execution_count": 8,
   "metadata": {},
   "outputs": [],
   "source": [
    "def sphere_global():\n",
    "     return tf.math.reduce_sum(var**2)"
   ]
  },
  {
   "source": [
    "## Check Function Outputs"
   ],
   "cell_type": "markdown",
   "metadata": {}
  },
  {
   "source": [
    "### tensorflow function"
   ],
   "cell_type": "markdown",
   "metadata": {}
  },
  {
   "cell_type": "code",
   "execution_count": 9,
   "metadata": {},
   "outputs": [
    {
     "output_type": "execute_result",
     "data": {
      "text/plain": [
       "2664666000.0"
      ]
     },
     "metadata": {},
     "execution_count": 9
    }
   ],
   "source": [
    "tf_sphere(var).numpy()"
   ]
  },
  {
   "source": [
    "### global function"
   ],
   "cell_type": "markdown",
   "metadata": {}
  },
  {
   "cell_type": "code",
   "execution_count": 10,
   "metadata": {},
   "outputs": [
    {
     "output_type": "execute_result",
     "data": {
      "text/plain": [
       "2664666000.0"
      ]
     },
     "metadata": {},
     "execution_count": 10
    }
   ],
   "source": [
    "sphere_global().numpy()"
   ]
  },
  {
   "source": [
    "### numpy function"
   ],
   "cell_type": "markdown",
   "metadata": {}
  },
  {
   "cell_type": "code",
   "execution_count": 11,
   "metadata": {},
   "outputs": [
    {
     "output_type": "execute_result",
     "data": {
      "text/plain": [
       "2664667000.0"
      ]
     },
     "metadata": {},
     "execution_count": 11
    }
   ],
   "source": [
    "sphere(np.array(x))"
   ]
  },
  {
   "source": [
    "## Define Optimizer\n",
    "### SGD"
   ],
   "cell_type": "markdown",
   "metadata": {}
  },
  {
   "cell_type": "code",
   "execution_count": 12,
   "metadata": {},
   "outputs": [],
   "source": [
    "opt_sgd = tf.keras.optimizers.SGD(learning_rate=0.1, momentum=0.9)"
   ]
  },
  {
   "source": [
    "### run SGD on wrapped tf function"
   ],
   "cell_type": "markdown",
   "metadata": {}
  },
  {
   "cell_type": "code",
   "execution_count": 13,
   "metadata": {},
   "outputs": [
    {
     "output_type": "stream",
     "name": "stdout",
     "text": [
      "0.0\n[ 0.0000000e+00 -5.4671611e-25 -1.0934322e-24 ... -1.0917790e-21\n -1.0923251e-21 -1.0928558e-21]\n"
     ]
    }
   ],
   "source": [
    "for step in range(1000):\n",
    "    step_count = opt_sgd.minimize(wrap_tf_sphere, [var]).numpy()\n",
    "print(sphere_global().numpy())\n",
    "print(var.numpy())"
   ]
  },
  {
   "source": [
    "### Reset global variable "
   ],
   "cell_type": "markdown",
   "metadata": {}
  },
  {
   "cell_type": "code",
   "execution_count": 14,
   "metadata": {},
   "outputs": [],
   "source": [
    "y = [float(i) for i in range(2000)]\n",
    "var = tf.Variable(y)"
   ]
  },
  {
   "source": [
    "### Run SGD on global function"
   ],
   "cell_type": "markdown",
   "metadata": {}
  },
  {
   "cell_type": "code",
   "execution_count": 15,
   "metadata": {},
   "outputs": [
    {
     "output_type": "stream",
     "name": "stdout",
     "text": [
      "0.0\n[ 0.0000000e+00 -5.4671611e-25 -1.0934322e-24 ... -1.0917790e-21\n -1.0923251e-21 -1.0928558e-21]\n"
     ]
    }
   ],
   "source": [
    "for step in range(1000):\n",
    "    step_count = opt_sgd.minimize(sphere_global, [var]).numpy()\n",
    "print(sphere_global().numpy())\n",
    "print(var.numpy())"
   ]
  },
  {
   "source": [
    "### Run ADAM on wrapped tf function"
   ],
   "cell_type": "markdown",
   "metadata": {}
  },
  {
   "cell_type": "code",
   "execution_count": 16,
   "metadata": {},
   "outputs": [],
   "source": [
    "z = [float(i) for i in range(2000)]\n",
    "var = tf.Variable(z)\n",
    "opt_adam = tf.keras.optimizers.Adam(learning_rate=1, epsilon=0.1)"
   ]
  },
  {
   "cell_type": "code",
   "execution_count": 17,
   "metadata": {},
   "outputs": [
    {
     "output_type": "stream",
     "name": "stdout",
     "text": [
      "0.0\n[ 0.0000000e+00 -5.8140770e-38  5.8415879e-38 ... -1.5561156e-37\n -1.5545717e-37 -1.5528495e-37]\n"
     ]
    }
   ],
   "source": [
    "for step in range(10000):\n",
    "    step_count = opt_adam.minimize(wrap_tf_sphere, [var]).numpy()\n",
    "print(sphere_global().numpy())\n",
    "print(var.numpy())"
   ]
  }
 ],
 "metadata": {
  "kernelspec": {
   "display_name": "Python 3",
   "language": "python",
   "name": "python3"
  },
  "language_info": {
   "codemirror_mode": {
    "name": "ipython",
    "version": 3
   },
   "file_extension": ".py",
   "mimetype": "text/x-python",
   "name": "python",
   "nbconvert_exporter": "python",
   "pygments_lexer": "ipython3",
   "version": "3.8.5-final"
  }
 },
 "nbformat": 4,
 "nbformat_minor": 4
}